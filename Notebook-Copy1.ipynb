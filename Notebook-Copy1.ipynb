{
 "cells": [
  {
   "cell_type": "code",
   "execution_count": 188,
   "metadata": {},
   "outputs": [],
   "source": [
    "import pandas as pd\n",
    "import numpy as np\n",
    "import matplotlib.pyplot as plt\n",
    "import matplotlib.ticker as mtick\n",
    "from matplotlib.ticker import PercentFormatter\n",
    "import seaborn as sns\n",
    "\n",
    "pd.set_option('display.max_columns', 10000)"
   ]
  },
  {
   "cell_type": "code",
   "execution_count": 33,
   "metadata": {},
   "outputs": [],
   "source": [
    "df=pd.read_csv('judge-1377884607_tweet_product_company.csv',encoding = 'unicode_escape')"
   ]
  },
  {
   "cell_type": "code",
   "execution_count": 34,
   "metadata": {
    "scrolled": false
   },
   "outputs": [
    {
     "data": {
      "text/html": [
       "<div>\n",
       "<style scoped>\n",
       "    .dataframe tbody tr th:only-of-type {\n",
       "        vertical-align: middle;\n",
       "    }\n",
       "\n",
       "    .dataframe tbody tr th {\n",
       "        vertical-align: top;\n",
       "    }\n",
       "\n",
       "    .dataframe thead th {\n",
       "        text-align: right;\n",
       "    }\n",
       "</style>\n",
       "<table border=\"1\" class=\"dataframe\">\n",
       "  <thead>\n",
       "    <tr style=\"text-align: right;\">\n",
       "      <th></th>\n",
       "      <th>tweet_text</th>\n",
       "      <th>emotion_in_tweet_is_directed_at</th>\n",
       "      <th>is_there_an_emotion_directed_at_a_brand_or_product</th>\n",
       "    </tr>\n",
       "  </thead>\n",
       "  <tbody>\n",
       "    <tr>\n",
       "      <th>0</th>\n",
       "      <td>.@wesley83 I have a 3G iPhone. After 3 hrs twe...</td>\n",
       "      <td>iPhone</td>\n",
       "      <td>Negative emotion</td>\n",
       "    </tr>\n",
       "    <tr>\n",
       "      <th>1</th>\n",
       "      <td>@jessedee Know about @fludapp ? Awesome iPad/i...</td>\n",
       "      <td>iPad or iPhone App</td>\n",
       "      <td>Positive emotion</td>\n",
       "    </tr>\n",
       "    <tr>\n",
       "      <th>2</th>\n",
       "      <td>@swonderlin Can not wait for #iPad 2 also. The...</td>\n",
       "      <td>iPad</td>\n",
       "      <td>Positive emotion</td>\n",
       "    </tr>\n",
       "    <tr>\n",
       "      <th>3</th>\n",
       "      <td>@sxsw I hope this year's festival isn't as cra...</td>\n",
       "      <td>iPad or iPhone App</td>\n",
       "      <td>Negative emotion</td>\n",
       "    </tr>\n",
       "    <tr>\n",
       "      <th>4</th>\n",
       "      <td>@sxtxstate great stuff on Fri #SXSW: Marissa M...</td>\n",
       "      <td>Google</td>\n",
       "      <td>Positive emotion</td>\n",
       "    </tr>\n",
       "  </tbody>\n",
       "</table>\n",
       "</div>"
      ],
      "text/plain": [
       "                                          tweet_text  \\\n",
       "0  .@wesley83 I have a 3G iPhone. After 3 hrs twe...   \n",
       "1  @jessedee Know about @fludapp ? Awesome iPad/i...   \n",
       "2  @swonderlin Can not wait for #iPad 2 also. The...   \n",
       "3  @sxsw I hope this year's festival isn't as cra...   \n",
       "4  @sxtxstate great stuff on Fri #SXSW: Marissa M...   \n",
       "\n",
       "  emotion_in_tweet_is_directed_at  \\\n",
       "0                          iPhone   \n",
       "1              iPad or iPhone App   \n",
       "2                            iPad   \n",
       "3              iPad or iPhone App   \n",
       "4                          Google   \n",
       "\n",
       "  is_there_an_emotion_directed_at_a_brand_or_product  \n",
       "0                                   Negative emotion  \n",
       "1                                   Positive emotion  \n",
       "2                                   Positive emotion  \n",
       "3                                   Negative emotion  \n",
       "4                                   Positive emotion  "
      ]
     },
     "execution_count": 34,
     "metadata": {},
     "output_type": "execute_result"
    }
   ],
   "source": [
    "df.head()"
   ]
  },
  {
   "cell_type": "code",
   "execution_count": 40,
   "metadata": {},
   "outputs": [],
   "source": [
    "df.columns=['tweet','company','emotion']"
   ]
  },
  {
   "cell_type": "code",
   "execution_count": 41,
   "metadata": {},
   "outputs": [],
   "source": [
    "df=df.drop([6]).reset_index(drop=True)"
   ]
  },
  {
   "cell_type": "code",
   "execution_count": 44,
   "metadata": {},
   "outputs": [],
   "source": [
    "df['emotion'] = df['emotion'].apply(lambda x: \"No emotion toward brand or product\" if x == \"I can't tell\" else x)"
   ]
  },
  {
   "cell_type": "code",
   "execution_count": 48,
   "metadata": {
    "scrolled": true
   },
   "outputs": [
    {
     "data": {
      "text/plain": [
       "iPad                               28\n",
       "Apple                              23\n",
       "Google                             16\n",
       "iPhone                             10\n",
       "Other Google product or service    10\n",
       "iPad or iPhone App                 10\n",
       "Other Apple product or service      1\n",
       "Android App                         1\n",
       "Android                             1\n",
       "Name: company, dtype: int64"
      ]
     },
     "execution_count": 48,
     "metadata": {},
     "output_type": "execute_result"
    }
   ],
   "source": [
    "df[df.emotion=='No emotion toward brand or product'].company.value_counts()"
   ]
  },
  {
   "cell_type": "code",
   "execution_count": 58,
   "metadata": {},
   "outputs": [],
   "source": [
    "punctuation=[\",\",\".\",\"#\",\"!\",\"@\",\"$\",\"?\",\"$\",\"%\",\"&\",\"-\",\"_\",\":\",\"=\", \"/\",\";\",'(',\")\", \"{\",\"}\",\"|\"]\n",
    "apple=['iPhone',\"iphones\",'i phones',\"iPad&quot;\",\"iphone \",'i Pad','i Pad',\"Apple.\",\"iPad?\",\"#iPad\",\"#iPhone\",'iPad','Mac',\"iphone,\",'iPod','ipod','ipad','mac','Apple','apple','Apple\\'s','apple\\'s',\"#Apple\",'#apple','I-Pad']\n",
    "google=['Google','google','android','Android','Google.','android,',\"#android\",'Google\\'s','google\\'s','googles' ,'#google','#Google']"
   ]
  },
  {
   "cell_type": "code",
   "execution_count": 59,
   "metadata": {},
   "outputs": [],
   "source": [
    "for index in df.index:\n",
    "    tweet=\"\".join(i if i not in punctuation else \" \" for i in df.tweet[index])\n",
    "    condition=0\n",
    "    df.tweet[index]=tweet\n",
    "\n",
    "    \n",
    "    if bool(set(tweet.split())&set(apple))==True:\n",
    "        df.company[index]=(list(set(tweet.split())&set(apple))[0].title().strip('\\'s')).strip('\\'S')\n",
    "        condition=1\n",
    "    else:\n",
    "        condition=0\n",
    "        \n",
    "    if (bool(set(tweet.split())&set(google))==True) and condition==0:\n",
    "        df.company[index]=(list(set(tweet.split())&set(google))[0].title().strip('\\'s')).strip('\\'S')\n",
    "        \n",
    "    elif (bool(set(tweet.split())&set(google))==True) and condition==1:\n",
    "        df.company[index]+= \" & \"+(list(set(tweet.split())&set(google))[0].title().strip('\\'s')).strip('\\'S')\n",
    "\n"
   ]
  },
  {
   "cell_type": "code",
   "execution_count": 60,
   "metadata": {},
   "outputs": [],
   "source": [
    "df['company'] = df['company'].apply(lambda x: \"iPad\" if x == \"Ipad\" else x)\n",
    "df['company'] = df['company'].apply(lambda x: \"iPhone\" if x == \"Iphone\" else x)"
   ]
  },
  {
   "cell_type": "code",
   "execution_count": 63,
   "metadata": {},
   "outputs": [],
   "source": [
    "df['brand'] = df['company'].apply(lambda x: 'Apple' if x in apple else 'Google' if x in google else '')"
   ]
  },
  {
   "cell_type": "code",
   "execution_count": 61,
   "metadata": {},
   "outputs": [
    {
     "data": {
      "text/plain": [
       "Google                             2413\n",
       "Apple                              2065\n",
       "iPad                               1848\n",
       "iPhone                             1131\n",
       "Android                             379\n",
       "Iphone & Android                    132\n",
       "iPad or iPhone App                   54\n",
       "Ipad & Android                       29\n",
       "Mac                                  26\n",
       "Apple & Google                       23\n",
       "Ipod                                 15\n",
       "Other Apple product or service       12\n",
       "Apple & Android                       7\n",
       "Ipad & Google                         5\n",
       "Iphone & Google                       4\n",
       "Other Google product or service       2\n",
       "Mac & Android                         1\n",
       "Ipod & Android                        1\n",
       "Name: company, dtype: int64"
      ]
     },
     "execution_count": 61,
     "metadata": {},
     "output_type": "execute_result"
    }
   ],
   "source": [
    "df.company.value_counts()"
   ]
  },
  {
   "cell_type": "code",
   "execution_count": 66,
   "metadata": {},
   "outputs": [
    {
     "data": {
      "text/plain": [
       "Apple     5070\n",
       "Google    2792\n",
       "          1230\n",
       "Name: brand, dtype: int64"
      ]
     },
     "execution_count": 66,
     "metadata": {},
     "output_type": "execute_result"
    }
   ],
   "source": [
    "df.brand.value_counts()"
   ]
  },
  {
   "cell_type": "code",
   "execution_count": 208,
   "metadata": {},
   "outputs": [],
   "source": [
    "dfg=df[['brand','emotion','tweet']].groupby(['brand','emotion']).count()[6:9]\n",
    "t=dfg['tweet'][0]+dfg['tweet'][1]+dfg['tweet'][2]\n",
    "for i in range(3):\n",
    "    dfg['tweet'][i]=dfg['tweet'][i]*100/t"
   ]
  },
  {
   "cell_type": "code",
   "execution_count": 246,
   "metadata": {},
   "outputs": [
    {
     "data": {
      "text/plain": [
       "[]"
      ]
     },
     "execution_count": 246,
     "metadata": {},
     "output_type": "execute_result"
    },
    {
     "data": {
      "image/png": "[encoded data removed]",
      "text/plain": [
       "<Figure size 576x360 with 1 Axes>"
      ]
     },
     "metadata": {},
     "output_type": "display_data"
    }
   ],
   "source": [
    "ax=dfg.plot(kind=\"bar\",figsize=(8,5),fontsize=15,color=\"#99B898\")\n",
    "ax.set_xticklabels(['Negative Emotion','No Emotion','Positive Emotion'],rotation=0,fontsize=15)\n",
    "ax.set_title('Google Sentiments',fontsize=15)\n",
    "ax.set_ylabel('Percent',fontsize=15)\n",
    "ax.set_xlabel('Sentiment',fontsize=15)\n",
    "ax.plot()"
   ]
  },
  {
   "cell_type": "code",
   "execution_count": 213,
   "metadata": {},
   "outputs": [],
   "source": [
    "dfa=df[['brand','emotion','tweet']].groupby(['brand','emotion']).count()[3:6]\n",
    "t=dfa['tweet'][0]+dfa['tweet'][1]+dfa['tweet'][2]\n",
    "for i in range(3):\n",
    "    dfa['tweet'][i]=dfa['tweet'][i]*100/t"
   ]
  },
  {
   "cell_type": "code",
   "execution_count": 214,
   "metadata": {},
   "outputs": [
    {
     "data": {
      "text/plain": [
       "Text(0.5, 0, 'Sentiment')"
      ]
     },
     "execution_count": 214,
     "metadata": {},
     "output_type": "execute_result"
    },
    {
     "data": {
      "image/png": "[encoded data removed]",
      "text/plain": [
       "<Figure size 576x360 with 1 Axes>"
      ]
     },
     "metadata": {},
     "output_type": "display_data"
    }
   ],
   "source": [
    "ax=dfa.plot(kind=\"bar\",figsize=(8,5),fontsize=15,color='salmon')\n",
    "ax.set_xticklabels(['Negative Emotion','No Emotion','Positive Emotion'],rotation=0,fontsize=15)\n",
    "ax.set_title('Apple Sentiments',fontsize=15)\n",
    "ax.set_ylabel('Percent',fontsize=15)\n",
    "ax.set_xlabel('Sentiment',fontsize=15)"
   ]
  },
  {
   "cell_type": "code",
   "execution_count": 216,
   "metadata": {},
   "outputs": [
    {
     "data": {
      "text/html": [
       "<div>\n",
       "<style scoped>\n",
       "    .dataframe tbody tr th:only-of-type {\n",
       "        vertical-align: middle;\n",
       "    }\n",
       "\n",
       "    .dataframe tbody tr th {\n",
       "        vertical-align: top;\n",
       "    }\n",
       "\n",
       "    .dataframe thead th {\n",
       "        text-align: right;\n",
       "    }\n",
       "</style>\n",
       "<table border=\"1\" class=\"dataframe\">\n",
       "  <thead>\n",
       "    <tr style=\"text-align: right;\">\n",
       "      <th></th>\n",
       "      <th></th>\n",
       "      <th>tweet</th>\n",
       "    </tr>\n",
       "    <tr>\n",
       "      <th>company</th>\n",
       "      <th>emotion</th>\n",
       "      <th></th>\n",
       "    </tr>\n",
       "  </thead>\n",
       "  <tbody>\n",
       "    <tr>\n",
       "      <th rowspan=\"3\" valign=\"top\">Android</th>\n",
       "      <th>Negative emotion</th>\n",
       "      <td>17</td>\n",
       "    </tr>\n",
       "    <tr>\n",
       "      <th>No emotion toward brand or product</th>\n",
       "      <td>214</td>\n",
       "    </tr>\n",
       "    <tr>\n",
       "      <th>Positive emotion</th>\n",
       "      <td>148</td>\n",
       "    </tr>\n",
       "    <tr>\n",
       "      <th rowspan=\"3\" valign=\"top\">Apple</th>\n",
       "      <th>Negative emotion</th>\n",
       "      <td>113</td>\n",
       "    </tr>\n",
       "    <tr>\n",
       "      <th>No emotion toward brand or product</th>\n",
       "      <td>1124</td>\n",
       "    </tr>\n",
       "    <tr>\n",
       "      <th>Positive emotion</th>\n",
       "      <td>828</td>\n",
       "    </tr>\n",
       "    <tr>\n",
       "      <th rowspan=\"2\" valign=\"top\">Apple &amp; Android</th>\n",
       "      <th>No emotion toward brand or product</th>\n",
       "      <td>4</td>\n",
       "    </tr>\n",
       "    <tr>\n",
       "      <th>Positive emotion</th>\n",
       "      <td>3</td>\n",
       "    </tr>\n",
       "    <tr>\n",
       "      <th rowspan=\"3\" valign=\"top\">Apple &amp; Google</th>\n",
       "      <th>Negative emotion</th>\n",
       "      <td>1</td>\n",
       "    </tr>\n",
       "    <tr>\n",
       "      <th>No emotion toward brand or product</th>\n",
       "      <td>14</td>\n",
       "    </tr>\n",
       "    <tr>\n",
       "      <th>Positive emotion</th>\n",
       "      <td>8</td>\n",
       "    </tr>\n",
       "    <tr>\n",
       "      <th rowspan=\"3\" valign=\"top\">Google</th>\n",
       "      <th>Negative emotion</th>\n",
       "      <td>133</td>\n",
       "    </tr>\n",
       "    <tr>\n",
       "      <th>No emotion toward brand or product</th>\n",
       "      <td>1612</td>\n",
       "    </tr>\n",
       "    <tr>\n",
       "      <th>Positive emotion</th>\n",
       "      <td>668</td>\n",
       "    </tr>\n",
       "    <tr>\n",
       "      <th rowspan=\"2\" valign=\"top\">Ipad &amp; Android</th>\n",
       "      <th>No emotion toward brand or product</th>\n",
       "      <td>25</td>\n",
       "    </tr>\n",
       "    <tr>\n",
       "      <th>Positive emotion</th>\n",
       "      <td>4</td>\n",
       "    </tr>\n",
       "    <tr>\n",
       "      <th rowspan=\"2\" valign=\"top\">Ipad &amp; Google</th>\n",
       "      <th>No emotion toward brand or product</th>\n",
       "      <td>3</td>\n",
       "    </tr>\n",
       "    <tr>\n",
       "      <th>Positive emotion</th>\n",
       "      <td>2</td>\n",
       "    </tr>\n",
       "    <tr>\n",
       "      <th rowspan=\"3\" valign=\"top\">Iphone &amp; Android</th>\n",
       "      <th>Negative emotion</th>\n",
       "      <td>4</td>\n",
       "    </tr>\n",
       "    <tr>\n",
       "      <th>No emotion toward brand or product</th>\n",
       "      <td>91</td>\n",
       "    </tr>\n",
       "    <tr>\n",
       "      <th>Positive emotion</th>\n",
       "      <td>37</td>\n",
       "    </tr>\n",
       "    <tr>\n",
       "      <th rowspan=\"2\" valign=\"top\">Iphone &amp; Google</th>\n",
       "      <th>No emotion toward brand or product</th>\n",
       "      <td>1</td>\n",
       "    </tr>\n",
       "    <tr>\n",
       "      <th>Positive emotion</th>\n",
       "      <td>3</td>\n",
       "    </tr>\n",
       "    <tr>\n",
       "      <th rowspan=\"2\" valign=\"top\">Ipod</th>\n",
       "      <th>No emotion toward brand or product</th>\n",
       "      <td>9</td>\n",
       "    </tr>\n",
       "    <tr>\n",
       "      <th>Positive emotion</th>\n",
       "      <td>6</td>\n",
       "    </tr>\n",
       "    <tr>\n",
       "      <th>Ipod &amp; Android</th>\n",
       "      <th>Negative emotion</th>\n",
       "      <td>1</td>\n",
       "    </tr>\n",
       "    <tr>\n",
       "      <th rowspan=\"3\" valign=\"top\">Mac</th>\n",
       "      <th>Negative emotion</th>\n",
       "      <td>3</td>\n",
       "    </tr>\n",
       "    <tr>\n",
       "      <th>No emotion toward brand or product</th>\n",
       "      <td>13</td>\n",
       "    </tr>\n",
       "    <tr>\n",
       "      <th>Positive emotion</th>\n",
       "      <td>10</td>\n",
       "    </tr>\n",
       "    <tr>\n",
       "      <th>Mac &amp; Android</th>\n",
       "      <th>Positive emotion</th>\n",
       "      <td>1</td>\n",
       "    </tr>\n",
       "    <tr>\n",
       "      <th>Other Apple product or service</th>\n",
       "      <th>Positive emotion</th>\n",
       "      <td>12</td>\n",
       "    </tr>\n",
       "    <tr>\n",
       "      <th rowspan=\"2\" valign=\"top\">Other Google product or service</th>\n",
       "      <th>Negative emotion</th>\n",
       "      <td>1</td>\n",
       "    </tr>\n",
       "    <tr>\n",
       "      <th>Positive emotion</th>\n",
       "      <td>1</td>\n",
       "    </tr>\n",
       "    <tr>\n",
       "      <th rowspan=\"3\" valign=\"top\">iPad</th>\n",
       "      <th>Negative emotion</th>\n",
       "      <td>154</td>\n",
       "    </tr>\n",
       "    <tr>\n",
       "      <th>No emotion toward brand or product</th>\n",
       "      <td>922</td>\n",
       "    </tr>\n",
       "    <tr>\n",
       "      <th>Positive emotion</th>\n",
       "      <td>772</td>\n",
       "    </tr>\n",
       "    <tr>\n",
       "      <th rowspan=\"3\" valign=\"top\">iPad or iPhone App</th>\n",
       "      <th>Negative emotion</th>\n",
       "      <td>5</td>\n",
       "    </tr>\n",
       "    <tr>\n",
       "      <th>No emotion toward brand or product</th>\n",
       "      <td>1</td>\n",
       "    </tr>\n",
       "    <tr>\n",
       "      <th>Positive emotion</th>\n",
       "      <td>48</td>\n",
       "    </tr>\n",
       "    <tr>\n",
       "      <th rowspan=\"3\" valign=\"top\">iPhone</th>\n",
       "      <th>Negative emotion</th>\n",
       "      <td>132</td>\n",
       "    </tr>\n",
       "    <tr>\n",
       "      <th>No emotion toward brand or product</th>\n",
       "      <td>599</td>\n",
       "    </tr>\n",
       "    <tr>\n",
       "      <th>Positive emotion</th>\n",
       "      <td>400</td>\n",
       "    </tr>\n",
       "  </tbody>\n",
       "</table>\n",
       "</div>"
      ],
      "text/plain": [
       "                                                                    tweet\n",
       "company                         emotion                                  \n",
       "Android                         Negative emotion                       17\n",
       "                                No emotion toward brand or product    214\n",
       "                                Positive emotion                      148\n",
       "Apple                           Negative emotion                      113\n",
       "                                No emotion toward brand or product   1124\n",
       "                                Positive emotion                      828\n",
       "Apple & Android                 No emotion toward brand or product      4\n",
       "                                Positive emotion                        3\n",
       "Apple & Google                  Negative emotion                        1\n",
       "                                No emotion toward brand or product     14\n",
       "                                Positive emotion                        8\n",
       "Google                          Negative emotion                      133\n",
       "                                No emotion toward brand or product   1612\n",
       "                                Positive emotion                      668\n",
       "Ipad & Android                  No emotion toward brand or product     25\n",
       "                                Positive emotion                        4\n",
       "Ipad & Google                   No emotion toward brand or product      3\n",
       "                                Positive emotion                        2\n",
       "Iphone & Android                Negative emotion                        4\n",
       "                                No emotion toward brand or product     91\n",
       "                                Positive emotion                       37\n",
       "Iphone & Google                 No emotion toward brand or product      1\n",
       "                                Positive emotion                        3\n",
       "Ipod                            No emotion toward brand or product      9\n",
       "                                Positive emotion                        6\n",
       "Ipod & Android                  Negative emotion                        1\n",
       "Mac                             Negative emotion                        3\n",
       "                                No emotion toward brand or product     13\n",
       "                                Positive emotion                       10\n",
       "Mac & Android                   Positive emotion                        1\n",
       "Other Apple product or service  Positive emotion                       12\n",
       "Other Google product or service Negative emotion                        1\n",
       "                                Positive emotion                        1\n",
       "iPad                            Negative emotion                      154\n",
       "                                No emotion toward brand or product    922\n",
       "                                Positive emotion                      772\n",
       "iPad or iPhone App              Negative emotion                        5\n",
       "                                No emotion toward brand or product      1\n",
       "                                Positive emotion                       48\n",
       "iPhone                          Negative emotion                      132\n",
       "                                No emotion toward brand or product    599\n",
       "                                Positive emotion                      400"
      ]
     },
     "execution_count": 216,
     "metadata": {},
     "output_type": "execute_result"
    }
   ],
   "source": [
    "df[['company','emotion','tweet']].groupby(['company','emotion']).count()"
   ]
  },
  {
   "cell_type": "code",
   "execution_count": 237,
   "metadata": {
    "scrolled": true
   },
   "outputs": [],
   "source": [
    "dfi=df[['company','emotion','tweet']].groupby(['company','emotion']).count()[39:43]\n",
    "t=dfi['tweet'][0]+dfi['tweet'][1]+dfi['tweet'][2]\n",
    "for i in range(3):\n",
    "    dfi['tweet'][i]=dfi['tweet'][i]*100/t"
   ]
  },
  {
   "cell_type": "code",
   "execution_count": 243,
   "metadata": {},
   "outputs": [
    {
     "data": {
      "text/plain": [
       "Text(0.5, 0, 'Sentiment')"
      ]
     },
     "execution_count": 243,
     "metadata": {},
     "output_type": "execute_result"
    },
    {
     "data": {
      "image/png": "[encoded data removed]",
      "text/plain": [
       "<Figure size 576x360 with 1 Axes>"
      ]
     },
     "metadata": {},
     "output_type": "display_data"
    }
   ],
   "source": [
    "ax=dfi.plot(kind=\"bar\",figsize=(8,5),fontsize=15,color='#2F9599')\n",
    "ax.set_xticklabels(['Negative Emotion','No Emotion','Positive Emotion'],rotation=0,fontsize=15)\n",
    "ax.set_title('iphone Sentiments',fontsize=15)\n",
    "ax.set_ylabel('Percent',fontsize=15)\n",
    "ax.set_xlabel('Sentiment',fontsize=15)"
   ]
  },
  {
   "cell_type": "code",
   "execution_count": 235,
   "metadata": {},
   "outputs": [],
   "source": [
    "dfa=df[['company','emotion','tweet']].groupby(['company','emotion']).count()[:3]\n",
    "t=dfa['tweet'][0]+dfa['tweet'][1]+dfa['tweet'][2]\n",
    "for i in range(3):\n",
    "    dfa['tweet'][i]=dfa['tweet'][i]*100/t"
   ]
  },
  {
   "cell_type": "code",
   "execution_count": 242,
   "metadata": {},
   "outputs": [
    {
     "data": {
      "text/plain": [
       "Text(0.5, 0, 'Sentiment')"
      ]
     },
     "execution_count": 242,
     "metadata": {},
     "output_type": "execute_result"
    },
    {
     "data": {
      "image/png": "[encoded data removed]",
      "text/plain": [
       "<Figure size 576x360 with 1 Axes>"
      ]
     },
     "metadata": {},
     "output_type": "display_data"
    }
   ],
   "source": [
    "ax=dfa.plot(kind=\"bar\",figsize=(8,5),fontsize=15,color='#CC527A')\n",
    "ax.set_xticklabels(['Negative Emotion','No Emotion','Positive Emotion'],rotation=0,fontsize=15)\n",
    "ax.set_title('Android Sentiments',fontsize=15)\n",
    "ax.set_ylabel('Percent',fontsize=15)\n",
    "ax.set_xlabel('Sentiment',fontsize=15)"
   ]
  },
  {
   "cell_type": "code",
   "execution_count": null,
   "metadata": {},
   "outputs": [],
   "source": []
  },
  {
   "cell_type": "code",
   "execution_count": null,
   "metadata": {},
   "outputs": [],
   "source": []
  },
  {
   "cell_type": "code",
   "execution_count": null,
   "metadata": {},
   "outputs": [],
   "source": []
  },
  {
   "cell_type": "code",
   "execution_count": null,
   "metadata": {},
   "outputs": [],
   "source": []
  },
  {
   "cell_type": "code",
   "execution_count": null,
   "metadata": {},
   "outputs": [],
   "source": []
  },
  {
   "cell_type": "code",
   "execution_count": null,
   "metadata": {},
   "outputs": [],
   "source": []
  }
 ],
 "metadata": {
  "kernelspec": {
   "display_name": "Python 3",
   "language": "python",
   "name": "python3"
  },
  "language_info": {
   "codemirror_mode": {
    "name": "ipython",
    "version": 3
   },
   "file_extension": ".py",
   "mimetype": "text/x-python",
   "name": "python",
   "nbconvert_exporter": "python",
   "pygments_lexer": "ipython3",
   "version": "3.7.6"
  }
 },
 "nbformat": 4,
 "nbformat_minor": 4
}
